{
 "metadata": {
  "language_info": {
   "codemirror_mode": {
    "name": "ipython",
    "version": 3
   },
   "file_extension": ".py",
   "mimetype": "text/x-python",
   "name": "python",
   "nbconvert_exporter": "python",
   "pygments_lexer": "ipython3",
   "version": 3
  },
  "orig_nbformat": 2
 },
 "nbformat": 4,
 "nbformat_minor": 2,
 "cells": [
  {
   "cell_type": "code",
   "execution_count": null,
   "metadata": {},
   "outputs": [],
   "source": [
    "\n",
    "import os\n",
    "import ast\n",
    "import re\n",
    "import pandas as pd\n",
    "\n"
   ]
  },
  {
   "cell_type": "code",
   "execution_count": null,
   "metadata": {},
   "outputs": [],
   "source": [
    "runs_path = \"Bureau/Illuminated_Evolution/SHINE_LIB/res\"\n",
    "\n",
    "def process_runs(path):\n",
    "    dirs = os.listdir(path)\n",
    "    records = []\n",
    "    current_gen = 0\n",
    "    for i in dirs:\n",
    "        generation = None\n",
    "        with open(path+\"/\"+i+\"/info.log\",\"r\") as file:\n",
    "            for line in file.readlines():\n",
    "                if(\"#\" in line):\n",
    "                    generation = int(re.findall(r\"Generation (\\d+)\",line)[0])\n",
    "                else:    \n",
    "                    d = (ast.literal_eval(line))\n",
    "                    t = (i, generation, *d.values())\n",
    "                    L1,L2 = [],[]\n",
    "                    ch = \"\"\n",
    "                    for i in t:\n",
    "                        if(type(i) != list):\n",
    "                            L1.append(i)\n",
    "                        elif(type(i) == str):\n",
    "                            ch = i\n",
    "                        else:\n",
    "                            L2 = i\n",
    "                    t = (ch,*L1,*L2)\n",
    "                    records.append(t)\n",
    "    df = pd.DataFrame.from_records(records, columns=[\"Execution\",\"Generation\"]+list(d.keys())[:-1]+[\"pos_x\",\"pos_y\",\"angle\"])\n",
    "    return df\n",
    "\n",
    "df = process_runs(runs_path)\n",
    "df"
   ]
  }
 ]
}